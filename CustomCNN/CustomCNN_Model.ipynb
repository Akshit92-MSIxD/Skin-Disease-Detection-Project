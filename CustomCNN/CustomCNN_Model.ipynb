version https://git-lfs.github.com/spec/v1
oid sha256:b65240a68232758091a03b7bb98e0457cb41da0a48b87b2ddef5393b8adc80e4
size 86937
