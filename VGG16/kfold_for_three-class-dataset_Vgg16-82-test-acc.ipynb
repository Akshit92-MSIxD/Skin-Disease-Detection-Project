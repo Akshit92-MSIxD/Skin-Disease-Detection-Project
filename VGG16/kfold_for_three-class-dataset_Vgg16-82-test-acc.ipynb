version https://git-lfs.github.com/spec/v1
oid sha256:49f0cc373515f830c41eb33064948053f52078939696dcd4dd0cbd7235b1cf54
size 937551
